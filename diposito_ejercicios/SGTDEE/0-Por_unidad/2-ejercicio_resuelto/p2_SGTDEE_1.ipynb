{
    "cells": [
        {
            "cell_type": "code",
            "execution_count": null,
            "id": "b08e622e-5726-4326-8ad4-1a16ca06a564",
            "metadata": {},
            "outputs": [],
            "source": [
                "import numpy as np"
            ]
        },
        {
            "cell_type": "markdown",
            "id": "b70b576d-729d-4c88-a13f-b5c5e9517ed8",
            "metadata": {},
            "source": [
                "# Problema 1\n",
                "Se dispone de la siguiente imagen:\n",
                "\n",
                "![IMAGE](https://raw.githubusercontent.com/ptrenchs/codi-docent-python/main/carpeta_probas/Electrica/1-Sistema_de_energia_electrica/img/p2.png)"
            ]
        },
        {
            "cell_type": "markdown",
            "id": "c5a6430e-e359-48a8-bfd4-9db65a5aa4f5",
            "metadata": {},
            "source": [
                " Datos$$  $$\n",
                "$$ V_{1} = 220 $$\n",
                " Tranformador 1$$  $$\n",
                "$$ Vh_{1} = 480 $$\n",
                "$$ Vl_{1} = 240 $$\n",
                "$$ S_{1} = 30 $$\n",
                "$$ e_{cc_{1}} = 0.1 $$\n",
                " Tranformador 2$$  $$\n",
                "$$ Vh_{2} = 460 $$\n",
                "$$ Vl_{2} = 115 $$\n",
                "$$ S_{2} = 20 $$\n",
                "$$ e_{cc_{2}} = 0.1 $$\n",
                " Linea 23$$  $$\n",
                "$$ Z_{L} = 2 \\cdot i $$\n",
                " linea 4inf$$  $$\n",
                "$$ Zc = 0.9 + 0.2 \\cdot i $$"
            ]
        },
        {
            "cell_type": "code",
            "execution_count": null,
            "id": "44f92000-8d83-4319-9a3e-743157493663",
            "metadata": {},
            "outputs": [],
            "source": [
                "# Datos\n",
                "V1 = 220\n",
                "# Tranformador 1\n",
                "Vh1 = 480\n",
                "Vl1 = 240\n",
                "S1 = 30\n",
                "e_cc1 = 0.1\n",
                "# Tranformador 2\n",
                "Vh2 = 460\n",
                "Vl2 = 115\n",
                "S2 = 20\n",
                "e_cc2 = 0.1\n",
                "# Linea 23\n",
                "Z_L = 2j\n",
                "# linea 4inf\n",
                "Zc = 0.9 + 0.2j"
            ]
        },
        {
            "cell_type": "markdown",
            "id": "6c47e7b3-f32d-4ce5-a185-50e37d52c31f",
            "metadata": {},
            "source": [
                "# Encuentra las bariables de base"
            ]
        },
        {
            "cell_type": "markdown",
            "id": "22e83887-d5d6-473e-9578-58c435a52b35",
            "metadata": {},
            "source": [
                "## Potencia de Base\n",
                "Para facilitar el calculo se puede usar una de las potencias proporcionadas en el enunciado\n",
                "$$S_B = S_1\\ \\ o\\ \\ S_B = S_2$$"
            ]
        },
        {
            "cell_type": "markdown",
            "id": "388f5175-b463-4d3a-a69c-4ab6b908a6e3",
            "metadata": {},
            "source": [
                " Encuentra variable que debe ser $ Sb $\n",
                "$$ Sb = S_{1} \\cdot 10 ^ { 3 } $$\n",
                ""
            ]
        },
        {
            "cell_type": "code",
            "execution_count": null,
            "id": "b8369ed8-539e-471d-a56c-73f2cd424b65",
            "metadata": {},
            "outputs": [],
            "source": [
                "# Encuentra variable que debe ser Sb\n",
                "Sb = S1 * 10 **3\n",
                "Sb"
            ]
        },
        {
            "cell_type": "markdown",
            "id": "783154e8-196a-4b5a-86ec-f818a919a57b",
            "metadata": {},
            "source": [
                "## Tensiones\n",
                "Como en este ejerccio existen tres zona distintas delimitadas por los transformadores, las tensiones de base no son independientes, es decir, se seguira la siguiente condicion:\n",
                "$$V_{B_1} = V_{elejida}$$\n",
                "$$V_{B_2} = V_{B_1} \\cdot \\frac{V_{Otro\\ lado\\ Transformador\\ 1}}{V_{Mismo\\ lado\\ del\\ Transformador\\ 1}}$$\n",
                "$$V_{B_3} = V_{B_2} \\cdot \\frac{V_{Otro\\ lado\\ Transformador\\ 2}}{V_{Mismo\\ lado\\ del\\ Transformador\\ 2}}$$\n",
                "\n",
                "La $ V_{elegida} $ puede tener el cualquier valor, pero para facilitar el calculo se realiza lo siguiente:\n",
                "\n",
                "$$V_{B_1} = V_{Mismo\\ lado\\ del\\ Transformador\\ 1}$$\n",
                "$$V_{B_2} = V_{B_1} \\cdot \\frac{V_{Otro\\ lado\\ Transformador\\ 1}}{V_{Mismo\\ lado\\ del\\ Transformador\\ 1}}$$\n",
                "$$V_{B_3} = V_{B_2} \\cdot \\frac{V_{Otro\\ lado\\ Transformador\\ 2}}{V_{Mismo\\ lado\\ del\\ Transformador\\ 2}}$$\n",
                "\n",
                "Nota: Se realizan los calculos con los modulos"
            ]
        },
        {
            "cell_type": "markdown",
            "id": "25667d62-c801-422e-9a3b-e41e86d70925",
            "metadata": {},
            "source": [
                "Tensiones 1"
            ]
        },
        {
            "cell_type": "markdown",
            "id": "df57360e-f516-47bd-9c1a-674badd6a122",
            "metadata": {},
            "source": [
                " Encuentra variable que debe ser $ Vb_{1} $\n",
                "$$ Vb_{1} = Vl_{1} $$\n",
                ""
            ]
        },
        {
            "cell_type": "code",
            "execution_count": null,
            "id": "09d6bb6a-b2fd-4195-922c-1d5bc62685e9",
            "metadata": {},
            "outputs": [],
            "source": [
                "# Encuentra variable que debe ser Vb1\n",
                "Vb1 = Vl1\n",
                "Vb1"
            ]
        },
        {
            "cell_type": "markdown",
            "id": "51abfbd3-fdde-40bd-a2cf-7bf603c51488",
            "metadata": {},
            "source": [
                "Tensiones 2"
            ]
        },
        {
            "cell_type": "markdown",
            "id": "5b6d0052-2025-4652-898b-ce9e5f868de4",
            "metadata": {},
            "source": [
                " Encuentra variable que debe ser $ Vb_{2} $\n",
                "$$ Vb_{2} = \\frac{ Vb_{1} \\cdot Vh_{1} }{ Vl_{1} } $$\n",
                ""
            ]
        },
        {
            "cell_type": "code",
            "execution_count": null,
            "id": "e230497c-d198-4d79-858d-58824f25818f",
            "metadata": {},
            "outputs": [],
            "source": [
                "# Encuentra variable que debe ser Vb2\n",
                "Vb2 = Vb1 * Vh1 / Vl1\n",
                "Vb2"
            ]
        },
        {
            "cell_type": "markdown",
            "id": "348df6b2-7fc3-4791-a391-3044a7220f62",
            "metadata": {},
            "source": [
                "Tensiones 3"
            ]
        },
        {
            "cell_type": "markdown",
            "id": "f1286ac3-28dd-4662-946b-6351ab7fa615",
            "metadata": {},
            "source": [
                " Encuentra variable que debe ser $ Vb_{3} $\n",
                "$$ Vb_{3} = \\frac{ Vb_{2} \\cdot Vl_{2} }{ Vh_{2} } $$\n",
                ""
            ]
        },
        {
            "cell_type": "code",
            "execution_count": null,
            "id": "90362658-e2d2-4bc8-bca5-9bb049369439",
            "metadata": {},
            "outputs": [],
            "source": [
                "# Encuentra variable que debe ser Vb3\n",
                "Vb3 = Vb2 * Vl2 / Vh2\n",
                "Vb3"
            ]
        },
        {
            "cell_type": "markdown",
            "id": "58ddf455-0413-4b43-9246-959c361a533e",
            "metadata": {},
            "source": [
                "## Impedancias\n",
                "\n",
                "La impedancia de base se puede obtener de distintas maneras:\n",
                "* Monofasico\n",
                "Primero tenemos tenemos esta expresion.\n",
                "$$ Z_{B_i} = \\frac{V_{B_i}}{I_{B_i}} $$\n",
                "Se realiza algunas substituciones.\n",
                "$$ Z_{B_i} = \\frac{V_{B_i}}{I_{B_i}} = \\frac{V_{B_i}}{\\frac{S_b}{V_{B_i}}} $$\n",
                "Se obtiene una segunda expresion.\n",
                "$$ Z_{B_i} = \\frac{V_{B_i}^2}{S_B} $$\n",
                "* Trifasico\n",
                "Primero tenemos tenemos esta expresion donde la tension es la de linea\n",
                "$$ Z_{B_i} = \\frac{\\frac{V_{B_i}}{\\sqrt{3}}}{I_{B_i}} = \\frac{V_{B_i}}{\\sqrt{3} \\cdot I_{B_i}} $$\n",
                "Se realiza algunas substituciones.\n",
                "$$ Z_{B_i} = \\frac{\\frac{V_{B_i}}{\\sqrt{3}}}{I_{B_i}} = \\frac{\\frac{V_{B_i}}{\\sqrt{3}}}{\\frac{S_b}{\\sqrt{3} \\cdot V_{B_i}}}$$\n",
                "Se llega a la misma ecuacion del apartado monofasico.\n",
                "$$ Z_{B_i} = \\frac{V_{B_i}^2}{S_B} $$\n",
                "\n",
                "En resumen, se recomienda usar la expresion $ Z_{B_i} = \\frac{V_{B_i}^2}{S_B} $ que es independiente de la tipologia del circuito."
            ]
        },
        {
            "cell_type": "markdown",
            "id": "64072109-5f86-4fb3-a622-a3f2c2eed830",
            "metadata": {},
            "source": [
                "Impedacina 1"
            ]
        },
        {
            "cell_type": "markdown",
            "id": "4132dbae-ae94-4fc0-9f11-37f6a8969e95",
            "metadata": {},
            "source": [
                " Encuentra variable que debe ser $ Zb_{1} $\n",
                "$$ Zb_{1} = \\frac{ Vb_{1} ^ { 2 } }{ Sb } $$\n",
                ""
            ]
        },
        {
            "cell_type": "code",
            "execution_count": null,
            "id": "8cc11ffe-abd1-4ae1-b8ea-205ee2708f3e",
            "metadata": {},
            "outputs": [],
            "source": [
                "# Encuentra variable que debe ser Zb1\n",
                "Zb1 = Vb1 ** 2 / Sb\n",
                "Zb1"
            ]
        },
        {
            "cell_type": "markdown",
            "id": "715db6c9-0ec0-49ea-af65-33982c2f8c00",
            "metadata": {},
            "source": [
                "Impedacina 2"
            ]
        },
        {
            "cell_type": "markdown",
            "id": "3f18dfcd-c23b-457c-9428-ab4818c6cb00",
            "metadata": {},
            "source": [
                " Encuentra variable que debe ser $ Zb_{2} $\n",
                "$$ Zb_{2} = \\frac{ Vb_{2} ^ { 2 } }{ Sb } $$\n",
                ""
            ]
        },
        {
            "cell_type": "code",
            "execution_count": null,
            "id": "5c22c7bc-3e02-4d7c-9b8c-8a55d77d0834",
            "metadata": {},
            "outputs": [],
            "source": [
                "# Encuentra variable que debe ser Zb2\n",
                "Zb2 = Vb2 ** 2 / Sb\n",
                "Zb2"
            ]
        },
        {
            "cell_type": "markdown",
            "id": "83606d29-8fb1-47f8-8f1e-460b9349f81c",
            "metadata": {},
            "source": [
                "Impedacina 3"
            ]
        },
        {
            "cell_type": "markdown",
            "id": "1a1e9e30-46fb-46ec-9afb-fc66cc5124ae",
            "metadata": {},
            "source": [
                " Encuentra variable que debe ser $ Zb_{3} $\n",
                "$$ Zb_{3} = \\frac{ Vb_{3} ^ { 2 } }{ Sb } $$\n",
                ""
            ]
        },
        {
            "cell_type": "code",
            "execution_count": null,
            "id": "7ceedec3-3882-4469-b224-1efa96889d43",
            "metadata": {},
            "outputs": [],
            "source": [
                "# Encuentra variable que debe ser Zb3\n",
                "Zb3 = Vb3 ** 2 / Sb\n",
                "Zb3"
            ]
        },
        {
            "cell_type": "markdown",
            "id": "79d49727-c010-4695-84b7-a23461c82313",
            "metadata": {},
            "source": [
                "## Intensidades\n",
                "La impedancia de base se puede obtener de distintas maneras:\n",
                "* Monofasico\n",
                "Primero tenemos tenemos esta expresion.\n",
                "$$ I_{B_i} = \\frac{V_{B_i}}{Z_{B_i}} $$\n",
                "Segunda expresion.\n",
                "$$ I_{B_i} = \\frac{S_B}{V_{B_i}} $$\n",
                "* Trifasico\n",
                "Primero tenemos tenemos esta expresion.\n",
                "$$ I_{B_i} = \\frac{\\frac{V_{B_i}}{\\sqrt{3}}}{Z_{B_i}}  = \\frac{V_{B_i}}{\\sqrt{3} \\cdot Z_{B_i}}$$\n",
                "Segunda expresion.\n",
                "$$ I_{B_i} = \\frac{S_B}{\\sqrt{3} \\cdot V_{B_i}} $$"
            ]
        },
        {
            "cell_type": "markdown",
            "id": "89ed2766-8eda-41b8-a219-fd32e9969e75",
            "metadata": {},
            "source": [
                "Intensidad 1"
            ]
        },
        {
            "cell_type": "markdown",
            "id": "49be4dd6-3f49-483a-8e6f-6a005b678592",
            "metadata": {},
            "source": [
                " Encuentra variable que debe ser $ Ib_{1} $\n",
                "$$ Ib_{1} = \\frac{ Sb }{ Vb_{1} } $$\n",
                ""
            ]
        },
        {
            "cell_type": "code",
            "execution_count": null,
            "id": "fe7f16ba-e00a-4a04-ba6c-1adf7d2b5a9c",
            "metadata": {},
            "outputs": [],
            "source": [
                "# Encuentra variable que debe ser Ib1\n",
                "Ib1 = Sb / Vb1\n",
                "Ib1"
            ]
        },
        {
            "cell_type": "markdown",
            "id": "92330836-895e-41de-8e91-6ec7e1307225",
            "metadata": {},
            "source": [
                "Intensidad  2"
            ]
        },
        {
            "cell_type": "markdown",
            "id": "a04c63b8-d3f4-4de8-9a88-d23ce840d838",
            "metadata": {},
            "source": [
                " Encuentra variable que debe ser $ Ib_{2} $\n",
                "$$ Ib_{2} = \\frac{ Sb }{ Vb_{2} } $$\n",
                ""
            ]
        },
        {
            "cell_type": "code",
            "execution_count": null,
            "id": "c06ef67f-4ba7-42fd-85a8-1474cda34f7b",
            "metadata": {},
            "outputs": [],
            "source": [
                "# Encuentra variable que debe ser Ib2\n",
                "Ib2 = Sb / Vb2\n",
                "Ib2"
            ]
        },
        {
            "cell_type": "markdown",
            "id": "3af3256a-19e1-497b-8a7f-11e8cb2b3bc9",
            "metadata": {},
            "source": [
                "Intensidad 3"
            ]
        },
        {
            "cell_type": "markdown",
            "id": "bfbe719d-14ed-4a9d-a38f-b9e6e90b0607",
            "metadata": {},
            "source": [
                " Encuentra variable que debe ser $ Ib_{3} $\n",
                "$$ Ib_{3} = \\frac{ Sb }{ Vb_{3} } $$\n",
                ""
            ]
        },
        {
            "cell_type": "code",
            "execution_count": null,
            "id": "bc308dd7-3d06-4124-a8fe-033386e6f6e3",
            "metadata": {},
            "outputs": [],
            "source": [
                "# Encuentra variable que debe ser Ib3\n",
                "Ib3 = Sb / Vb3\n",
                "Ib3"
            ]
        },
        {
            "cell_type": "markdown",
            "id": "edb21082-10bf-4e0b-97bd-c80e327c6ebf",
            "metadata": {},
            "source": [
                "# Encuentra las variables por unidad\n",
                "\n",
                "![IMAGE](https://raw.githubusercontent.com/ptrenchs/codi-docent-python/main/carpeta_probas/Electrica/1-Sistema_de_energia_electrica/img/p2.png)"
            ]
        },
        {
            "cell_type": "markdown",
            "id": "728680b9-c75d-4b5c-8baa-a818e54742ba",
            "metadata": {},
            "source": [
                "Tension 1"
            ]
        },
        {
            "cell_type": "markdown",
            "id": "f51a9687-152a-44ea-98b3-19be6e7bb1c8",
            "metadata": {},
            "source": [
                " Encuentra variable que debe ser $ V_{pu_{1}} $\n",
                "$$ V_{pu_{1}} = \\frac{ V_{1} }{ Vb_{1} } $$\n",
                ""
            ]
        },
        {
            "cell_type": "code",
            "execution_count": null,
            "id": "713fec07-e9a1-4ce0-948b-424850370996",
            "metadata": {},
            "outputs": [],
            "source": [
                "# Encuentra variable que debe ser Vpu1\n",
                "Vpu1 = V1 / Vb1\n",
                "Vpu1"
            ]
        },
        {
            "cell_type": "markdown",
            "id": "5903f431-90cd-4a54-8d4d-405306234a14",
            "metadata": {},
            "source": [
                "## Impedancias"
            ]
        },
        {
            "cell_type": "markdown",
            "id": "286658a9-fc30-4629-9559-fa8d9e82d178",
            "metadata": {},
            "source": [
                "Impedancia 1"
            ]
        },
        {
            "cell_type": "markdown",
            "id": "657bcb95-9776-4b6e-9441-ae5152c35e2d",
            "metadata": {},
            "source": [
                "$$ Z_{pu_{1}} = 0 $$\n",
                ""
            ]
        },
        {
            "cell_type": "code",
            "execution_count": null,
            "id": "ff24d825-24bc-4be5-bde7-9b9740835546",
            "metadata": {},
            "outputs": [],
            "source": [
                "Zpu1 = 0\n",
                "Zpu1"
            ]
        },
        {
            "cell_type": "markdown",
            "id": "96334621-6e9b-4286-bc49-5880790dab1c",
            "metadata": {},
            "source": [
                "Impedancia 2"
            ]
        },
        {
            "cell_type": "markdown",
            "id": "a5c1fdfa-55c1-4f13-8c3d-be2e7d8a8084",
            "metadata": {},
            "source": [
                " Encuentra variable que debe ser $ Z_{pu_{2}} $\n",
                "$$ Z_{pu_{2}} = \\frac{ Z_{L} }{ Zb_{2} } $$\n",
                ""
            ]
        },
        {
            "cell_type": "code",
            "execution_count": null,
            "id": "96281818-2561-488f-a5b4-7e20912d0f91",
            "metadata": {},
            "outputs": [],
            "source": [
                "# Encuentra variable que debe ser Zpu2\n",
                "Zpu2 = Z_L / Zb2\n",
                "Zpu2"
            ]
        },
        {
            "cell_type": "markdown",
            "id": "c0bcb5bb-a374-4034-844f-5fe18d8eecdb",
            "metadata": {},
            "source": [
                "Impedancia 3"
            ]
        },
        {
            "cell_type": "markdown",
            "id": "8401e469-f629-483b-8215-a72af7f0c466",
            "metadata": {},
            "source": [
                " Encuentra variable que debe ser $ Z_{pu_{3}} $\n",
                "$$ Z_{pu_{3}} = \\frac{ Zc }{ Zb_{3} } $$\n",
                ""
            ]
        },
        {
            "cell_type": "code",
            "execution_count": null,
            "id": "18b66ce5-11dd-47f5-8c8f-294bc5d0be3e",
            "metadata": {},
            "outputs": [],
            "source": [
                "# Encuentra variable que debe ser Zpu3\n",
                "Zpu3 = Zc / Zb3\n",
                "Zpu3"
            ]
        },
        {
            "cell_type": "markdown",
            "id": "9c1c86f2-2920-485b-887f-8232bfbcc9b1",
            "metadata": {},
            "source": [
                "## Impedancias de los transformadores\n",
                "$$ Z_{pu_{T_i}} = \\varepsilon_{cc_i} \\cdot \\frac{\\left(\\frac{V_{mismo\\ lado_{T_i}}^2}{S_{n_{T_i}}}\\right)}{Z_{mismo\\ lado_{B_i}}}$$"
            ]
        },
        {
            "cell_type": "markdown",
            "id": "7b828c5d-3070-4a8e-b42d-b708f3a8a084",
            "metadata": {},
            "source": [
                "Impedancia Transformador 1"
            ]
        },
        {
            "cell_type": "markdown",
            "id": "e3874173-43da-4f8e-aa09-a2ff377827b6",
            "metadata": {},
            "source": [
                " Encuentra variable que debe ser $ Z_{put_{1}} $\n",
                "$$ Z_{put_{1}} = \\frac{ e_{cc_{1}} \\cdot \\left( \\frac{ Vl_{1} ^ { 2 } }{ \\left( S_{1} \\cdot 10 ^ { 3 } \\right) } \\right) }{ Zb_{1} } \\cdot i $$\n",
                ""
            ]
        },
        {
            "cell_type": "code",
            "execution_count": null,
            "id": "08e6f8ca-ab0e-4d16-a500-5b4a29805037",
            "metadata": {},
            "outputs": [],
            "source": [
                "# Encuentra variable que debe ser Zput1\n",
                "Zput1 = e_cc1 * (Vl1 ** 2 / (S1 * 10 **3)) / Zb1 * 1j\n",
                "Zput1"
            ]
        },
        {
            "cell_type": "markdown",
            "id": "70979fa6-0e82-426c-b322-db9eeb86ba29",
            "metadata": {},
            "source": [
                "Impedancia Transformador 2"
            ]
        },
        {
            "cell_type": "markdown",
            "id": "e34f1cfa-d405-4c11-b43d-771a0813388c",
            "metadata": {},
            "source": [
                " Encuentra variable que debe ser $ Z_{put_{2}} $\n",
                "$$ Z_{put_{2}} = \\frac{ e_{cc_{2}} \\cdot \\left( \\frac{ Vl_{2} ^ { 2 } }{ \\left( S_{2} \\cdot 10 ^ { 3 } \\right) } \\right) }{ Zb_{3} } \\cdot i $$\n",
                ""
            ]
        },
        {
            "cell_type": "code",
            "execution_count": null,
            "id": "473a3b70-214a-41d9-be4a-d267481e05f0",
            "metadata": {},
            "outputs": [],
            "source": [
                "# Encuentra variable que debe ser Zput2\n",
                "Zput2 = e_cc2 * (Vl2 ** 2 / (S2 * 10 **3)) / Zb3 * 1j\n",
                "Zput2"
            ]
        },
        {
            "cell_type": "markdown",
            "id": "773c0a4d-a086-484f-810b-7c9f875b2ef3",
            "metadata": {},
            "source": [
                "## Intensidad Total"
            ]
        },
        {
            "cell_type": "markdown",
            "id": "355e77ce-408d-409a-99c8-1c6b71404326",
            "metadata": {},
            "source": [
                " Encuentra variable que debe ser $ I_{pu_{tot}} $\n",
                "$$ I_{pu_{tot}} = \\frac{ V_{pu_{1}} }{ Z_{pu_{1}} + Z_{put_{1}} + Z_{pu_{2}} + Z_{put_{2}} + Z_{pu_{3}} } $$\n",
                ""
            ]
        },
        {
            "cell_type": "code",
            "execution_count": null,
            "id": "d2e5cdda-eb7e-4093-839c-978af924c355",
            "metadata": {},
            "outputs": [],
            "source": [
                "# Encuentra variable que debe ser Iputot\n",
                "Iputot = Vpu1 / (Zpu1 + Zput1 + Zpu2 + Zput2 + Zpu3)\n",
                "Iputot"
            ]
        },
        {
            "cell_type": "markdown",
            "id": "fe61724f-6f6c-4312-8513-bc32c627d292",
            "metadata": {},
            "source": [
                "## Tensiones\n",
                "\n",
                "![IMAGE](https://raw.githubusercontent.com/ptrenchs/codi-docent-python/main/carpeta_probas/Electrica/1-Sistema_de_energia_electrica/img/p2.png)"
            ]
        },
        {
            "cell_type": "markdown",
            "id": "27c12656-c59c-44fe-8764-5c8cb57936f5",
            "metadata": {},
            "source": [
                "Tension 2"
            ]
        },
        {
            "cell_type": "markdown",
            "id": "efce42a9-40c8-4a63-b5fc-25c5a8baecdc",
            "metadata": {},
            "source": [
                " Encuentra variable que debe ser $ V_{pu_{2}} $\n",
                "$$ V_{pu_{2}} = V_{pu_{1}} - I_{pu_{tot}} \\cdot Z_{put_{1}} $$\n",
                ""
            ]
        },
        {
            "cell_type": "code",
            "execution_count": null,
            "id": "f2be621b-ea5f-4685-b011-463c0650f69f",
            "metadata": {},
            "outputs": [],
            "source": [
                "# Encuentra variable que debe ser Vpu2\n",
                "Vpu2 = Vpu1 - Iputot * Zput1\n",
                "Vpu2"
            ]
        },
        {
            "cell_type": "markdown",
            "id": "8d5a2544-e781-43c1-8cff-963e2298f0ce",
            "metadata": {},
            "source": [
                "Tension 3"
            ]
        },
        {
            "cell_type": "markdown",
            "id": "7d548170-dbb3-462c-8514-dab6bac32187",
            "metadata": {},
            "source": [
                " Encuentra variable que debe ser $ V_{pu_{3}} $\n",
                "$$ V_{pu_{3}} = V_{pu_{2}} - I_{pu_{tot}} \\cdot Z_{pu_{2}} $$\n",
                ""
            ]
        },
        {
            "cell_type": "code",
            "execution_count": null,
            "id": "162daaf4-3ee6-49a5-a38a-a946a604be54",
            "metadata": {},
            "outputs": [],
            "source": [
                "# Encuentra variable que debe ser Vpu3\n",
                "Vpu3 = Vpu2 - Iputot * Zpu2\n",
                "Vpu3"
            ]
        },
        {
            "cell_type": "markdown",
            "id": "90575ea9-8261-4e31-9d20-a3e522ee94a3",
            "metadata": {},
            "source": [
                "Tension 4"
            ]
        },
        {
            "cell_type": "markdown",
            "id": "eca0b620-6976-4ba2-be87-3f2d9767b8d2",
            "metadata": {},
            "source": [
                " Encuentra variable que debe ser $ V_{pu_{4}} $\n",
                "$$ V_{pu_{4}} = V_{pu_{3}} - I_{pu_{tot}} \\cdot Z_{put_{2}} $$\n",
                ""
            ]
        },
        {
            "cell_type": "code",
            "execution_count": null,
            "id": "c87d0566-9397-414e-b2eb-d94b5c027087",
            "metadata": {},
            "outputs": [],
            "source": [
                "# Encuentra variable que debe ser Vpu4\n",
                "Vpu4 = Vpu3 - Iputot * Zput2\n",
                "Vpu4"
            ]
        },
        {
            "cell_type": "markdown",
            "id": "f9d7a62b-1c81-4446-af00-f5cdd7cd56df",
            "metadata": {},
            "source": [
                "## Variables reales\n",
                "\n",
                "![IMAGE](https://raw.githubusercontent.com/ptrenchs/codi-docent-python/main/carpeta_probas/Electrica/1-Sistema_de_energia_electrica/img/p2.png)"
            ]
        },
        {
            "cell_type": "markdown",
            "id": "27e50927-1cda-4a2a-8f74-e9964399ee47",
            "metadata": {},
            "source": [
                "## Tensiones"
            ]
        },
        {
            "cell_type": "markdown",
            "id": "80079446-85e0-426b-a41d-4e61a8a40568",
            "metadata": {},
            "source": [
                "Tension 2"
            ]
        },
        {
            "cell_type": "markdown",
            "id": "d874245a-d6af-4c3f-9bd4-0ba4f3943e16",
            "metadata": {},
            "source": [
                " Encuentra variable que debe ser $ V2 $\n",
                "$$ V_{2} = V_{pu_{2}} \\cdot Vb_{2} $$\n",
                ""
            ]
        },
        {
            "cell_type": "code",
            "execution_count": null,
            "id": "70730fef-ea87-4476-8a15-f0914ed112d0",
            "metadata": {},
            "outputs": [],
            "source": [
                "# Encuentra variable que debe ser V2\n",
                "V2 = Vpu2 * Vb2\n",
                "V2"
            ]
        },
        {
            "cell_type": "markdown",
            "id": "6f21b951-24cb-48ec-8fd2-62d4e81a917a",
            "metadata": {},
            "source": [
                "Tension 3"
            ]
        },
        {
            "cell_type": "markdown",
            "id": "0297a042-06bd-4904-b145-0f2271487a87",
            "metadata": {},
            "source": [
                " Encuentra variable que debe ser $ V3 $\n",
                "$$ V_{3} = V_{pu_{3}} \\cdot Vb_{2} $$\n",
                ""
            ]
        },
        {
            "cell_type": "code",
            "execution_count": null,
            "id": "2749ffef-63d8-4451-89ca-34f595bcd4c5",
            "metadata": {},
            "outputs": [],
            "source": [
                "# Encuentra variable que debe ser V3\n",
                "V3 = Vpu3 * Vb2\n",
                "V3"
            ]
        },
        {
            "cell_type": "markdown",
            "id": "63e52f82-427a-4c6e-a804-803c2caeb8e5",
            "metadata": {},
            "source": [
                "Tension 4"
            ]
        },
        {
            "cell_type": "markdown",
            "id": "d8b36946-7e30-43af-b9d6-3d2847c192be",
            "metadata": {},
            "source": [
                " Encuentra variable que debe ser $ V4 $\n",
                "$$ V_{4} = V_{pu_{4}} \\cdot Vb_{3} $$\n",
                ""
            ]
        },
        {
            "cell_type": "code",
            "execution_count": null,
            "id": "56cf6c0c-0d6a-4189-a1be-21a052e835eb",
            "metadata": {},
            "outputs": [],
            "source": [
                "# Encuentra variable que debe ser V4\n",
                "V4 = Vpu4 * Vb3\n",
                "V4"
            ]
        },
        {
            "cell_type": "markdown",
            "id": "db46e62d-23ce-44c9-a3a2-9a86eb8db097",
            "metadata": {},
            "source": [
                "## Intensidad"
            ]
        },
        {
            "cell_type": "markdown",
            "id": "c79044d6-0e0a-4270-8fcc-8cab3af14e87",
            "metadata": {},
            "source": [
                "Intensidad 1"
            ]
        },
        {
            "cell_type": "markdown",
            "id": "f7e4e503-4488-455a-98c5-347d7ab58ab3",
            "metadata": {},
            "source": [
                " Encuentra variable que debe ser $ I1 $\n",
                "$$ I_{1} = I_{pu_{tot}} \\cdot Ib_{1} $$\n",
                ""
            ]
        },
        {
            "cell_type": "code",
            "execution_count": null,
            "id": "8bc5afd8-07e2-46b5-9faa-d3c24c0aa037",
            "metadata": {},
            "outputs": [],
            "source": [
                "# Encuentra variable que debe ser I1\n",
                "I1 = Iputot * Ib1\n",
                "I1"
            ]
        },
        {
            "cell_type": "markdown",
            "id": "b7719fec-4340-4f54-9480-b03ab3cfe260",
            "metadata": {},
            "source": [
                "Intensidad 2"
            ]
        },
        {
            "cell_type": "markdown",
            "id": "02d3e32c-2fe5-46e8-bd20-362c87b1bc96",
            "metadata": {},
            "source": [
                " Encuentra variable que debe ser $ I2 $\n",
                "$$ I_{2} = I_{pu_{tot}} \\cdot Ib_{2} $$\n",
                ""
            ]
        },
        {
            "cell_type": "code",
            "execution_count": null,
            "id": "6ba15f59-4f5d-4802-ba16-cf445332d121",
            "metadata": {},
            "outputs": [],
            "source": [
                "# Encuentra variable que debe ser I2\n",
                "I2 = Iputot * Ib2\n",
                "I2"
            ]
        },
        {
            "cell_type": "markdown",
            "id": "f1fa7f5a-ae96-4eda-ae94-afcc4d81be84",
            "metadata": {},
            "source": [
                "Intensidad 3"
            ]
        },
        {
            "cell_type": "markdown",
            "id": "e2ed6f78-5e46-456c-a0b1-9de23e62915d",
            "metadata": {},
            "source": [
                " Encuentra variable que debe ser $ I3 $\n",
                "$$ I_{3} = I_{pu_{tot}} \\cdot Ib_{3} $$\n",
                ""
            ]
        },
        {
            "cell_type": "code",
            "execution_count": null,
            "id": "62cc39f0-6311-4749-9904-e8283173b356",
            "metadata": {},
            "outputs": [],
            "source": [
                "# Encuentra variable que debe ser I3\n",
                "I3 = Iputot * Ib3\n",
                "I3"
            ]
        }
    ],
    "metadata": {
        "kernelspec": {
            "display_name": "Python 3 (ipykernel)",
            "language": "python",
            "name": "python3"
        },
        "language_info": {
            "codemirror_mode": {
                "name": "ipython",
                "version": 3
            },
            "file_extension": ".py",
            "mimetype": "text/x-python",
            "name": "python",
            "nbconvert_exporter": "python",
            "pygments_lexer": "ipython3",
            "version": "3.12.4"
        }
    },
    "nbformat": 4,
    "nbformat_minor": 5
}