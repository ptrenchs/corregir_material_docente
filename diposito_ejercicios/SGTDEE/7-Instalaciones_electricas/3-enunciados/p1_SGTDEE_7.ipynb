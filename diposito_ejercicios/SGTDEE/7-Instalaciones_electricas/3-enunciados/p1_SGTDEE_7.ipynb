{
    "cells": [
        {
            "cell_type": "code",
            "execution_count": null,
            "id": "969efad0-f339-4dd4-aa6e-9349b4409139",
            "metadata": {},
            "outputs": [],
            "source": [
                "import numpy as np\n",
                "import pandas as pd"
            ]
        },
        {
            "cell_type": "markdown",
            "id": "b401e6bd-afa5-4c03-9472-4a091594a5f5",
            "metadata": {},
            "source": [
                "un edificio de habitajes dispone de una centralizacion de comptadores a la planta baja con las caracteristicas siguientes:\n",
                "\n",
                "- Potencia en la centralizacion de los contadores: 30 kW\n",
                "- Voltaje de suministro: 400 V\n",
                "- Longitud de la linea general de alimentacion: 15 m\n",
                "- Conductores de cobre (conductividad: 44 m/Ω mm2)\n",
                "- Factor de potencia: 0,90 (i)\n",
                "- Conductores RZ1-K instalados en un tubo encastado a la paret de obra\n",
                "\n",
                "Calculen la minima seccion normalizada de la linea general de alimentacion."
            ]
        },
        {
            "cell_type": "code",
            "execution_count": null,
            "id": "9ca5547c-e943-4d64-b8dc-caec5fdeda9b",
            "metadata": {},
            "outputs": [],
            "source": [
                "# Datos\n",
                "# Potencia en la centralizacion de los contadores en W:\n",
                "P = 30 * 10 ** 3\n",
                "# Voltaje de suministro en V\n",
                "V = 400\n",
                "# Longitud de la linea general de alimentacion en m\n",
                "Long = 15\n",
                "# Conductores de cobre en m/(Ω/mm^2)\n",
                "con_cu = 44\n",
                "# Factor de potencia inductivo en por unidad\n",
                "fdp = 0.9\n",
                "# Caida de tension en %\n",
                "delta_v = 0.5"
            ]
        },
        {
            "cell_type": "markdown",
            "id": "08610ef5-4709-4494-8ae6-e659a499af10",
            "metadata": {},
            "source": [
                "Càlculo de la mínima sección (en $mm^2$) aplicando el criterio de la maxima caida de voltage\n",
                "admisible:"
            ]
        },
        {
            "cell_type": "code",
            "execution_count": null,
            "id": "0c7f451c-fd43-41f8-9e71-095f12344153",
            "metadata": {},
            "outputs": [],
            "source": [
                "# Encuentra variable que debe ser A_delta_V\n",
                ""
            ]
        },
        {
            "cell_type": "code",
            "execution_count": null,
            "id": "5948fd3a-332c-4b07-9c76-4432596eb0d9",
            "metadata": {},
            "outputs": [],
            "source": [
                "# Encuentra variable que debe ser df\n",
                ""
            ]
        },
        {
            "cell_type": "markdown",
            "id": "25ccf1f8-8b43-448c-8d2a-a09aa6549b5b",
            "metadata": {},
            "source": [
                "La seccion minima normalizada adoptada aplicando el criterio maximo de caida de tension admisible es:"
            ]
        },
        {
            "cell_type": "code",
            "execution_count": null,
            "id": "1c9dfaa5-1e7a-45ef-b459-46c92dcdf7d5",
            "metadata": {},
            "outputs": [],
            "source": [
                "# Encuentra variable que debe ser Area_criterio\n",
                ""
            ]
        },
        {
            "cell_type": "markdown",
            "id": "4465c91f-d1fa-4b79-9428-37b4024a529f",
            "metadata": {},
            "source": [
                "A continuación, se avalua el criterio de la intensidad maxima admisible. Por un conductor con una sección nominal de 16 $mm^2$, el corrente maxim admisible és:"
            ]
        },
        {
            "cell_type": "code",
            "execution_count": null,
            "id": "b459a004-4ba8-4243-8cb1-6f4708a5cc65",
            "metadata": {},
            "outputs": [],
            "source": [
                "# Encuentra variable que debe ser I_criterio\n",
                ""
            ]
        },
        {
            "cell_type": "markdown",
            "id": "d9fb0ae4-b176-4db5-9695-f11927ffddac",
            "metadata": {},
            "source": [
                "Corriente por la linea general de alimentacion"
            ]
        },
        {
            "cell_type": "code",
            "execution_count": null,
            "id": "7405aac3-a218-4efa-984d-199308e6c1c3",
            "metadata": {},
            "outputs": [],
            "source": [
                "# Encuentra variable que debe ser I_gneral\n",
                ""
            ]
        },
        {
            "cell_type": "markdown",
            "id": "3adb2de5-b366-4a53-8adf-b2669d7244a3",
            "metadata": {},
            "source": [
                "como corriente que circula por la linea general de alimentacion es inferior a la correinte maximo admisible, la seccion minima normalizada del conductor de la linea general de alimentacion es:"
            ]
        },
        {
            "cell_type": "code",
            "execution_count": null,
            "id": "182f286a-4602-4cb8-9f64-4a7f1770b391",
            "metadata": {},
            "outputs": [],
            "source": [
                ""
            ]
        }
    ],
    "metadata": {
        "kernelspec": {
            "display_name": "Python 3 (ipykernel)",
            "language": "python",
            "name": "python3"
        },
        "language_info": {
            "codemirror_mode": {
                "name": "ipython",
                "version": 3
            },
            "file_extension": ".py",
            "mimetype": "text/x-python",
            "name": "python",
            "nbconvert_exporter": "python",
            "pygments_lexer": "ipython3",
            "version": "3.12.4"
        }
    },
    "nbformat": 4,
    "nbformat_minor": 5
}