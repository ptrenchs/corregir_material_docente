{
 "cells": [
  {
   "cell_type": "code",
   "execution_count": null,
   "id": "b08e622e-5726-4326-8ad4-1a16ca06a564",
   "metadata": {},
   "outputs": [],
   "source": [
    "import numpy as np"
   ]
  },
  {
   "cell_type": "markdown",
   "id": "b70b576d-729d-4c88-a13f-b5c5e9517ed8",
   "metadata": {},
   "source": [
    "# Problema 1\n",
    "Se dispone de la siguiente imagen:\n",
    "\n",
    "![IMAGE](https://raw.githubusercontent.com/ptrenchs/Material_docente_clase/main/SGTDEE/0-Por_unidad/1-referencia/img/p1.png)\n"
   ]
  },
  {
   "cell_type": "markdown",
   "id": "8b9a713d-ec2c-4bb7-aabb-02f72cedb0bc",
   "metadata": {},
   "source": [
    " Datos$$  $$\n",
    "$$ V_{1} = 13.2 $$\n",
    " Tranformador 1$$  $$\n",
    "$$ Vh_{1} = 132 $$\n",
    "$$ Vl_{1} = 13.2 $$\n",
    "$$ S_{1} = 5 $$\n",
    "$$ e_{cc_{1}} = \\frac{ 10 }{ 100 } $$\n",
    " Tranformador 2$$  $$\n",
    "$$ Vh_{2} = 138 $$\n",
    "$$ Vl_{2} = 69 $$\n",
    "$$ S_{2} = 10 $$\n",
    "$$ e_{cc_{2}} = \\frac{ 8 }{ 100 } $$\n",
    " Linea 23$$  $$\n",
    "$$ Z_{L} = 10 + 100 \\cdot i $$\n",
    " linea 4inf$$  $$\n",
    "$$ Zc = 300 $$"
   ]
  },
  {
   "cell_type": "code",
   "execution_count": null,
   "id": "44f92000-8d83-4319-9a3e-743157493663",
   "metadata": {},
   "outputs": [],
   "source": [
    "# Datos\n",
    "V1 = 13.2\n",
    "# Tranformador 1\n",
    "Vh1 = 132\n",
    "Vl1 = 13.2\n",
    "S1 = 5\n",
    "e_cc1 = 10/100\n",
    "# Tranformador 2\n",
    "Vh2 = 138\n",
    "Vl2 = 69\n",
    "S2 = 10\n",
    "e_cc2 = 8/100\n",
    "# Linea 23\n",
    "Z_L = 10 + 100j\n",
    "# linea 4inf\n",
    "Zc = 300"
   ]
  },
  {
   "cell_type": "markdown",
   "id": "6c47e7b3-f32d-4ce5-a185-50e37d52c31f",
   "metadata": {},
   "source": [
    "# Encuentra las bariables de base"
   ]
  },
  {
   "cell_type": "markdown",
   "id": "22e83887-d5d6-473e-9578-58c435a52b35",
   "metadata": {},
   "source": [
    "## Potencia de Base\n",
    "Para facilitar el calculo se puede usar una de las potencias proporcionadas en el enunciado\n",
    "$$S_B = S_1\\ \\ o\\ \\ S_B = S_2$$"
   ]
  },
  {
   "cell_type": "markdown",
   "id": "88a8395e-4664-4390-82d1-ceb06d3125fc",
   "metadata": {},
   "source": [
    " Encuentra variable que debe ser $ Sb $\n",
    "$$ Sb = S_{1} \\cdot 10 ^ { 6 } $$\n"
   ]
  },
  {
   "cell_type": "code",
   "execution_count": null,
   "id": "b8369ed8-539e-471d-a56c-73f2cd424b65",
   "metadata": {},
   "outputs": [],
   "source": [
    "# Encuentra variable que debe ser Sb\n",
    "Sb = S1 * 10 **6\n",
    "Sb"
   ]
  },
  {
   "cell_type": "markdown",
   "id": "783154e8-196a-4b5a-86ec-f818a919a57b",
   "metadata": {},
   "source": [
    "## Tensiones\n",
    "Como en este ejerccio existen tres zona distintas delimitadas por los transformadores, las tensiones de base no son independientes, es decir, se seguira la siguiente condicion:\n",
    "$$V_{B_1} = V_{elejida}$$\n",
    "$$V_{B_2} = V_{B_1} \\cdot \\frac{V_{Otro\\ lado\\ Transformador\\ 1}}{V_{Mismo\\ lado\\ del\\ Transformador\\ 1}}$$\n",
    "$$V_{B_3} = V_{B_2} \\cdot \\frac{V_{Otro\\ lado\\ Transformador\\ 2}}{V_{Mismo\\ lado\\ del\\ Transformador\\ 2}}$$\n",
    "\n",
    "La $ V_{elegida} $ puede tener el cualquier valor, pero para facilitar el calculo se realiza lo siguiente:\n",
    "\n",
    "$$V_{B_1} = V_{Mismo\\ lado\\ del\\ Transformador\\ 1}$$\n",
    "$$V_{B_2} = V_{B_1} \\cdot \\frac{V_{Otro\\ lado\\ Transformador\\ 1}}{V_{Mismo\\ lado\\ del\\ Transformador\\ 1}}$$\n",
    "$$V_{B_3} = V_{B_2} \\cdot \\frac{V_{Otro\\ lado\\ Transformador\\ 2}}{V_{Mismo\\ lado\\ del\\ Transformador\\ 2}}$$\n",
    "\n",
    "Nota: Se realizan los calculos con los modulos"
   ]
  },
  {
   "cell_type": "markdown",
   "id": "25667d62-c801-422e-9a3b-e41e86d70925",
   "metadata": {},
   "source": [
    "Tensiones 1"
   ]
  },
  {
   "cell_type": "markdown",
   "id": "1f93e87a-56e4-485c-aad7-bfbbf65147f5",
   "metadata": {},
   "source": [
    " Encuentra variable que debe ser $ Vb_{1} $\n",
    "$$ Vb_{1} = Vl_{1} \\cdot 10 ^ { 3 } $$\n"
   ]
  },
  {
   "cell_type": "code",
   "execution_count": null,
   "id": "09d6bb6a-b2fd-4195-922c-1d5bc62685e9",
   "metadata": {},
   "outputs": [],
   "source": [
    "# Encuentra variable que debe ser Vb1\n",
    "Vb1 = Vl1 * 10 ** 3\n",
    "Vb1"
   ]
  },
  {
   "cell_type": "markdown",
   "id": "51abfbd3-fdde-40bd-a2cf-7bf603c51488",
   "metadata": {},
   "source": [
    "Tensiones 2"
   ]
  },
  {
   "cell_type": "markdown",
   "id": "0aab1fde-f48f-426f-92a9-f3b432f304b8",
   "metadata": {},
   "source": [
    " Encuentra variable que debe ser $ Vb_{2} $\n",
    "$$ Vb_{2} = \\frac{ Vb_{1} \\cdot Vh_{1} }{ Vl_{1} } $$\n"
   ]
  },
  {
   "cell_type": "code",
   "execution_count": null,
   "id": "e230497c-d198-4d79-858d-58824f25818f",
   "metadata": {},
   "outputs": [],
   "source": [
    "# Encuentra variable que debe ser Vb2\n",
    "Vb2 = Vb1 * Vh1 / Vl1\n",
    "Vb2"
   ]
  },
  {
   "cell_type": "markdown",
   "id": "348df6b2-7fc3-4791-a391-3044a7220f62",
   "metadata": {},
   "source": [
    "Tensiones 3"
   ]
  },
  {
   "cell_type": "markdown",
   "id": "0bd4106a-4e71-4c27-827a-d102c259e2f8",
   "metadata": {},
   "source": [
    " Encuentra variable que debe ser $ Vb_{3} $\n",
    "$$ Vb_{3} = \\frac{ Vb_{2} \\cdot Vl_{2} }{ Vh_{2} } $$\n"
   ]
  },
  {
   "cell_type": "code",
   "execution_count": null,
   "id": "90362658-e2d2-4bc8-bca5-9bb049369439",
   "metadata": {},
   "outputs": [],
   "source": [
    "# Encuentra variable que debe ser Vb3\n",
    "Vb3 = Vb2 * Vl2 / Vh2\n",
    "Vb3"
   ]
  },
  {
   "cell_type": "markdown",
   "id": "58ddf455-0413-4b43-9246-959c361a533e",
   "metadata": {},
   "source": [
    "## Impedancias\n",
    "\n",
    "La impedancia de base se puede obtener de distintas maneras:\n",
    "* Monofasico\n",
    "Primero tenemos tenemos esta expresion.\n",
    "$$ Z_{B_i} = \\frac{V_{B_i}}{I_{B_i}} $$\n",
    "Se realiza algunas substituciones.\n",
    "$$ Z_{B_i} = \\frac{V_{B_i}}{I_{B_i}} = \\frac{V_{B_i}}{\\frac{S_b}{V_{B_i}}} $$\n",
    "Se obtiene una segunda expresion.\n",
    "$$ Z_{B_i} = \\frac{V_{B_i}^2}{S_B} $$\n",
    "* Trifasico\n",
    "Primero tenemos tenemos esta expresion donde la tension es la de linea\n",
    "$$ Z_{B_i} = \\frac{\\frac{V_{B_i}}{\\sqrt{3}}}{I_{B_i}} = \\frac{V_{B_i}}{\\sqrt{3} \\cdot I_{B_i}} $$\n",
    "Se realiza algunas substituciones.\n",
    "$$ Z_{B_i} = \\frac{\\frac{V_{B_i}}{\\sqrt{3}}}{I_{B_i}} = \\frac{\\frac{V_{B_i}}{\\sqrt{3}}}{\\frac{S_b}{\\sqrt{3} \\cdot V_{B_i}}}$$\n",
    "Se llega a la misma ecuacion del apartado monofasico.\n",
    "$$ Z_{B_i} = \\frac{V_{B_i}^2}{S_B} $$\n",
    "\n",
    "En resumen, se recomienda usar la expresion $ Z_{B_i} = \\frac{V_{B_i}^2}{S_B} $ que es independiente de la tipologia del circuito."
   ]
  },
  {
   "cell_type": "markdown",
   "id": "64072109-5f86-4fb3-a622-a3f2c2eed830",
   "metadata": {},
   "source": [
    "Impedacina 1"
   ]
  },
  {
   "cell_type": "markdown",
   "id": "1236fd2b-d7e7-4f4e-8b4c-38b3c3a81c18",
   "metadata": {},
   "source": [
    " Encuentra variable que debe ser $ Zb_{1} $\n",
    "$$ Zb_{1} = \\frac{ Vb_{1} ^ { 2 } }{ Sb } $$\n"
   ]
  },
  {
   "cell_type": "code",
   "execution_count": null,
   "id": "8cc11ffe-abd1-4ae1-b8ea-205ee2708f3e",
   "metadata": {},
   "outputs": [],
   "source": [
    "# Encuentra variable que debe ser Zb1\n",
    "Zb1 = Vb1 ** 2 / Sb\n",
    "Zb1"
   ]
  },
  {
   "cell_type": "markdown",
   "id": "715db6c9-0ec0-49ea-af65-33982c2f8c00",
   "metadata": {},
   "source": [
    "Impedacina 2"
   ]
  },
  {
   "cell_type": "markdown",
   "id": "708205e5-9cc9-4226-9066-d6c080120625",
   "metadata": {},
   "source": [
    " Encuentra variable que debe ser $ Zb_{2} $\n",
    "$$ Zb_{2} = \\frac{ Vb_{2} ^ { 2 } }{ Sb } $$\n"
   ]
  },
  {
   "cell_type": "code",
   "execution_count": null,
   "id": "5c22c7bc-3e02-4d7c-9b8c-8a55d77d0834",
   "metadata": {},
   "outputs": [],
   "source": [
    "# Encuentra variable que debe ser Zb2\n",
    "Zb2 = Vb2 ** 2 / Sb\n",
    "Zb2"
   ]
  },
  {
   "cell_type": "markdown",
   "id": "83606d29-8fb1-47f8-8f1e-460b9349f81c",
   "metadata": {},
   "source": [
    "Impedacina 3"
   ]
  },
  {
   "cell_type": "markdown",
   "id": "7fb49a3c-e2ec-421d-9316-23a5ecf0a499",
   "metadata": {},
   "source": [
    " Encuentra variable que debe ser $ Zb_{3} $\n",
    "$$ Zb_{3} = \\frac{ Vb_{3} ^ { 2 } }{ Sb } $$\n"
   ]
  },
  {
   "cell_type": "code",
   "execution_count": null,
   "id": "7ceedec3-3882-4469-b224-1efa96889d43",
   "metadata": {},
   "outputs": [],
   "source": [
    "# Encuentra variable que debe ser Zb3\n",
    "Zb3 = Vb3 ** 2 / Sb\n",
    "Zb3"
   ]
  },
  {
   "cell_type": "markdown",
   "id": "79d49727-c010-4695-84b7-a23461c82313",
   "metadata": {},
   "source": [
    "## Intensidades\n",
    "La impedancia de base se puede obtener de distintas maneras:\n",
    "* Monofasico\n",
    "Primero tenemos tenemos esta expresion.\n",
    "$$ I_{B_i} = \\frac{V_{B_i}}{Z_{B_i}} $$\n",
    "Segunda expresion.\n",
    "$$ I_{B_i} = \\frac{S_B}{V_{B_i}} $$\n",
    "* Trifasico\n",
    "Primero tenemos tenemos esta expresion.\n",
    "$$ I_{B_i} = \\frac{\\frac{V_{B_i}}{\\sqrt{3}}}{Z_{B_i}}  = \\frac{V_{B_i}}{\\sqrt{3} \\cdot Z_{B_i}}$$\n",
    "Segunda expresion.\n",
    "$$ I_{B_i} = \\frac{S_B}{\\sqrt{3} \\cdot V_{B_i}} $$"
   ]
  },
  {
   "cell_type": "markdown",
   "id": "89ed2766-8eda-41b8-a219-fd32e9969e75",
   "metadata": {},
   "source": [
    "Intensidad 1"
   ]
  },
  {
   "cell_type": "markdown",
   "id": "2fcfc9df-b11b-44ea-b73e-102098a81947",
   "metadata": {},
   "source": [
    " Encuentra variable que debe ser $ Ib_{1} $\n",
    "$$ Ib_{1} = \\frac{ Sb }{ \\left( np.sqrt \\left( 3 \\right) \\cdot Vb_{1} \\right) } $$\n"
   ]
  },
  {
   "cell_type": "code",
   "execution_count": null,
   "id": "fe7f16ba-e00a-4a04-ba6c-1adf7d2b5a9c",
   "metadata": {},
   "outputs": [],
   "source": [
    "# Encuentra variable que debe ser Ib1\n",
    "Ib1 = Sb / (np.sqrt(3) * Vb1)\n",
    "Ib1"
   ]
  },
  {
   "cell_type": "markdown",
   "id": "92330836-895e-41de-8e91-6ec7e1307225",
   "metadata": {},
   "source": [
    "Intensidad  2"
   ]
  },
  {
   "cell_type": "markdown",
   "id": "797ce07c-d5b9-4055-855d-257f75ae7ea4",
   "metadata": {},
   "source": [
    " Encuentra variable que debe ser $ Ib_{2} $\n",
    "$$ Ib_{2} = \\frac{ Sb }{ \\left( np.sqrt \\left( 3 \\right) \\cdot Vb_{2} \\right) } $$\n"
   ]
  },
  {
   "cell_type": "code",
   "execution_count": null,
   "id": "c06ef67f-4ba7-42fd-85a8-1474cda34f7b",
   "metadata": {},
   "outputs": [],
   "source": [
    "# Encuentra variable que debe ser Ib2\n",
    "Ib2 = Sb / (np.sqrt(3) * Vb2)\n",
    "Ib2"
   ]
  },
  {
   "cell_type": "markdown",
   "id": "3af3256a-19e1-497b-8a7f-11e8cb2b3bc9",
   "metadata": {},
   "source": [
    "Intensidad 3"
   ]
  },
  {
   "cell_type": "markdown",
   "id": "761c9608-408c-4e94-b3ba-e48a350f8916",
   "metadata": {},
   "source": [
    " Encuentra variable que debe ser $ Ib_{3} $\n",
    "$$ Ib_{3} = \\frac{ Sb }{ \\left( np.sqrt \\left( 3 \\right) \\cdot Vb_{3} \\right) } $$\n"
   ]
  },
  {
   "cell_type": "code",
   "execution_count": null,
   "id": "bc308dd7-3d06-4124-a8fe-033386e6f6e3",
   "metadata": {},
   "outputs": [],
   "source": [
    "# Encuentra variable que debe ser Ib3\n",
    "Ib3 = Sb / (np.sqrt(3) * Vb3)\n",
    "Ib3"
   ]
  },
  {
   "cell_type": "markdown",
   "id": "edb21082-10bf-4e0b-97bd-c80e327c6ebf",
   "metadata": {},
   "source": [
    "# Encuentra las variables por unidad\n",
    "\n",
    "![IMAGE](https://raw.githubusercontent.com/ptrenchs/codi-docent-python/main/carpeta_probas/Electrica/1-Sistema_de_energia_electrica/img/p1.png)"
   ]
  },
  {
   "cell_type": "markdown",
   "id": "728680b9-c75d-4b5c-8baa-a818e54742ba",
   "metadata": {},
   "source": [
    "Tension 1"
   ]
  },
  {
   "cell_type": "markdown",
   "id": "68058d88-6610-43b2-a992-cc2bb0eb15e3",
   "metadata": {},
   "source": [
    " Encuentra variable que debe ser $ V_{pu_{1}} $\n",
    "$$ V_{pu_{1}} = \\frac{ V_{1} \\cdot 10 ^ { 3 } }{ Vb_{1} } $$\n"
   ]
  },
  {
   "cell_type": "code",
   "execution_count": null,
   "id": "713fec07-e9a1-4ce0-948b-424850370996",
   "metadata": {},
   "outputs": [],
   "source": [
    "# Encuentra variable que debe ser Vpu1\n",
    "Vpu1 = V1 * 10 **3 / Vb1\n",
    "Vpu1"
   ]
  },
  {
   "cell_type": "markdown",
   "id": "5903f431-90cd-4a54-8d4d-405306234a14",
   "metadata": {},
   "source": [
    "## Impedancias"
   ]
  },
  {
   "cell_type": "markdown",
   "id": "286658a9-fc30-4629-9559-fa8d9e82d178",
   "metadata": {},
   "source": [
    "Impedancia 1"
   ]
  },
  {
   "cell_type": "markdown",
   "id": "6e7ef7e0-b5de-4389-b1c0-4517abc7402a",
   "metadata": {},
   "source": [
    "$$ Z_{pu_{1}} = 0 $$\n"
   ]
  },
  {
   "cell_type": "code",
   "execution_count": null,
   "id": "ff24d825-24bc-4be5-bde7-9b9740835546",
   "metadata": {},
   "outputs": [],
   "source": [
    "Zpu1 = 0\n",
    "Zpu1"
   ]
  },
  {
   "cell_type": "markdown",
   "id": "96334621-6e9b-4286-bc49-5880790dab1c",
   "metadata": {},
   "source": [
    "Impedancia 2"
   ]
  },
  {
   "cell_type": "markdown",
   "id": "888364aa-d017-4264-8d59-707462483eb1",
   "metadata": {},
   "source": [
    " Encuentra variable que debe ser $ Z_{pu_{2}} $\n",
    "$$ Z_{pu_{2}} = \\frac{ Z_{L} }{ Zb_{2} } $$\n"
   ]
  },
  {
   "cell_type": "code",
   "execution_count": null,
   "id": "96281818-2561-488f-a5b4-7e20912d0f91",
   "metadata": {},
   "outputs": [],
   "source": [
    "# Encuentra variable que debe ser Zpu2\n",
    "Zpu2 = Z_L / Zb2\n",
    "Zpu2"
   ]
  },
  {
   "cell_type": "markdown",
   "id": "c0bcb5bb-a374-4034-844f-5fe18d8eecdb",
   "metadata": {},
   "source": [
    "Impedancia 3"
   ]
  },
  {
   "cell_type": "markdown",
   "id": "90961413-7ccb-4a0b-a2f1-fb6ee8453450",
   "metadata": {},
   "source": [
    " Encuentra variable que debe ser $ Z_{pu_{3}} $\n",
    "$$ Z_{pu_{3}} = \\frac{ Zc }{ Zb_{3} } $$\n"
   ]
  },
  {
   "cell_type": "code",
   "execution_count": null,
   "id": "18b66ce5-11dd-47f5-8c8f-294bc5d0be3e",
   "metadata": {},
   "outputs": [],
   "source": [
    "# Encuentra variable que debe ser Zpu3\n",
    "Zpu3 = Zc / Zb3\n",
    "Zpu3"
   ]
  },
  {
   "cell_type": "markdown",
   "id": "9c1c86f2-2920-485b-887f-8232bfbcc9b1",
   "metadata": {},
   "source": [
    "## Impedancias de los transformadores\n",
    "$$ Z_{pu_{T_i}} = \\varepsilon_{cc_i} \\cdot \\frac{\\left(\\frac{V_{mismo\\ lado_{T_i}}^2}{S_{n_{T_i}}}\\right)}{Z_{mismo\\ lado_{B_i}}}$$"
   ]
  },
  {
   "cell_type": "markdown",
   "id": "7b828c5d-3070-4a8e-b42d-b708f3a8a084",
   "metadata": {},
   "source": [
    "Impedancia Transformador 1"
   ]
  },
  {
   "cell_type": "markdown",
   "id": "1086addf-7312-450a-b22e-fd605ce5f14e",
   "metadata": {},
   "source": [
    " Encuentra variable que debe ser $ Z_{put_{1}} $\n",
    "$$ Z_{put_{1}} = \\frac{ e_{cc_{1}} \\cdot \\left( \\frac{ \\left( Vl_{1} \\cdot 10 ^ { 3 } \\right) ^ { 2 } }{ \\left( S_{1} \\cdot 10 ^ { 6 } \\right) } \\right) }{ Zb_{1} } \\cdot i $$\n"
   ]
  },
  {
   "cell_type": "code",
   "execution_count": null,
   "id": "08e6f8ca-ab0e-4d16-a500-5b4a29805037",
   "metadata": {},
   "outputs": [],
   "source": [
    "# Encuentra variable que debe ser Zput1\n",
    "Zput1 = e_cc1 * ((Vl1 * 10 ** 3) ** 2 / (S1 * 10 **6)) / Zb1 * 1j\n",
    "Zput1"
   ]
  },
  {
   "cell_type": "markdown",
   "id": "70979fa6-0e82-426c-b322-db9eeb86ba29",
   "metadata": {},
   "source": [
    "Impedancia Transformador 2"
   ]
  },
  {
   "cell_type": "markdown",
   "id": "e933a196-a7c4-4e3a-b579-c964451b69ec",
   "metadata": {},
   "source": [
    " Encuentra variable que debe ser $ Z_{put_{2}} $\n",
    "$$ Z_{put_{2}} = \\frac{ e_{cc_{2}} \\cdot \\left( \\frac{ \\left( Vl_{2} \\cdot 10 ^ { 3 } \\right) ^ { 2 } }{ \\left( S_{2} \\cdot 10 ^ { 6 } \\right) } \\right) }{ Zb_{3} } \\cdot i $$\n"
   ]
  },
  {
   "cell_type": "code",
   "execution_count": null,
   "id": "473a3b70-214a-41d9-be4a-d267481e05f0",
   "metadata": {},
   "outputs": [],
   "source": [
    "# Encuentra variable que debe ser Zput2\n",
    "Zput2 = e_cc2 * ((Vl2 * 10 ** 3) ** 2 / (S2 * 10 ** 6)) / Zb3 * 1j\n",
    "Zput2"
   ]
  },
  {
   "cell_type": "markdown",
   "id": "773c0a4d-a086-484f-810b-7c9f875b2ef3",
   "metadata": {},
   "source": [
    "## Intensidad Total"
   ]
  },
  {
   "cell_type": "markdown",
   "id": "2306a69b-c000-4ca8-b954-2bccbe8b9fee",
   "metadata": {},
   "source": [
    " Encuentra variable que debe ser $ I_{pu_{tot}} $\n",
    "$$ I_{pu_{tot}} = \\frac{ V_{pu_{1}} }{ Z_{pu_{1}} + Z_{put_{1}} + Z_{pu_{2}} + Z_{put_{2}} + Z_{pu_{3}} } $$\n"
   ]
  },
  {
   "cell_type": "code",
   "execution_count": null,
   "id": "d2e5cdda-eb7e-4093-839c-978af924c355",
   "metadata": {},
   "outputs": [],
   "source": [
    "# Encuentra variable que debe ser Iputot\n",
    "Iputot = Vpu1 / (Zpu1 + Zput1 + Zpu2 + Zput2 + Zpu3)\n",
    "Iputot"
   ]
  },
  {
   "cell_type": "markdown",
   "id": "fe61724f-6f6c-4312-8513-bc32c627d292",
   "metadata": {},
   "source": [
    "## Tensiones\n",
    "\n",
    "![IMAGE](https://raw.githubusercontent.com/ptrenchs/codi-docent-python/main/carpeta_probas/Electrica/1-Sistema_de_energia_electrica/img/p1.png)"
   ]
  },
  {
   "cell_type": "markdown",
   "id": "27c12656-c59c-44fe-8764-5c8cb57936f5",
   "metadata": {},
   "source": [
    "Tension 2"
   ]
  },
  {
   "cell_type": "markdown",
   "id": "25e0d5cc-0ed7-4c06-ac57-2c720f513d22",
   "metadata": {},
   "source": [
    " Encuentra variable que debe ser $ V_{pu_{2}} $\n",
    "$$ V_{pu_{2}} = V_{pu_{1}} - I_{pu_{tot}} \\cdot Z_{put_{1}} $$\n"
   ]
  },
  {
   "cell_type": "code",
   "execution_count": null,
   "id": "f2be621b-ea5f-4685-b011-463c0650f69f",
   "metadata": {},
   "outputs": [],
   "source": [
    "# Encuentra variable que debe ser Vpu2\n",
    "Vpu2 = Vpu1 - Iputot * Zput1\n",
    "Vpu2"
   ]
  },
  {
   "cell_type": "markdown",
   "id": "8d5a2544-e781-43c1-8cff-963e2298f0ce",
   "metadata": {},
   "source": [
    "Tension 3"
   ]
  },
  {
   "cell_type": "markdown",
   "id": "2564c1d3-4670-4d27-a79b-564ff5240630",
   "metadata": {},
   "source": [
    " Encuentra variable que debe ser $ V_{pu_{3}} $\n",
    "$$ V_{pu_{3}} = V_{pu_{2}} - I_{pu_{tot}} \\cdot Z_{pu_{2}} $$\n"
   ]
  },
  {
   "cell_type": "code",
   "execution_count": null,
   "id": "162daaf4-3ee6-49a5-a38a-a946a604be54",
   "metadata": {},
   "outputs": [],
   "source": [
    "# Encuentra variable que debe ser Vpu3\n",
    "Vpu3 = Vpu2 - Iputot * Zpu2\n",
    "Vpu3"
   ]
  },
  {
   "cell_type": "markdown",
   "id": "90575ea9-8261-4e31-9d20-a3e522ee94a3",
   "metadata": {},
   "source": [
    "Tension 4"
   ]
  },
  {
   "cell_type": "markdown",
   "id": "639ffa41-d6f2-4f3a-8d34-78f64a2bdb7c",
   "metadata": {},
   "source": [
    " Encuentra variable que debe ser $ V_{pu_{4}} $\n",
    "$$ V_{pu_{4}} = V_{pu_{3}} - I_{pu_{tot}} \\cdot Z_{put_{2}} $$\n"
   ]
  },
  {
   "cell_type": "code",
   "execution_count": null,
   "id": "c87d0566-9397-414e-b2eb-d94b5c027087",
   "metadata": {},
   "outputs": [],
   "source": [
    "# Encuentra variable que debe ser Vpu4\n",
    "Vpu4 = Vpu3 - Iputot * Zput2\n",
    "Vpu4"
   ]
  },
  {
   "cell_type": "markdown",
   "id": "f9d7a62b-1c81-4446-af00-f5cdd7cd56df",
   "metadata": {},
   "source": [
    "## Variables reales\n",
    "\n",
    "![IMAGE](https://raw.githubusercontent.com/ptrenchs/codi-docent-python/main/carpeta_probas/Electrica/1-Sistema_de_energia_electrica/img/p1.png)"
   ]
  },
  {
   "cell_type": "markdown",
   "id": "27e50927-1cda-4a2a-8f74-e9964399ee47",
   "metadata": {},
   "source": [
    "## Tensiones"
   ]
  },
  {
   "cell_type": "markdown",
   "id": "80079446-85e0-426b-a41d-4e61a8a40568",
   "metadata": {},
   "source": [
    "Tension 2"
   ]
  },
  {
   "cell_type": "markdown",
   "id": "8d2b4dc2-87d8-41a6-8110-65efe41fb3ba",
   "metadata": {},
   "source": [
    " Encuentra variable que debe ser $ V2 $\n",
    "$$ V_{2} = V_{pu_{2}} \\cdot Vb_{2} $$\n"
   ]
  },
  {
   "cell_type": "code",
   "execution_count": null,
   "id": "70730fef-ea87-4476-8a15-f0914ed112d0",
   "metadata": {},
   "outputs": [],
   "source": [
    "# Encuentra variable que debe ser V2\n",
    "V2 = Vpu2 * Vb2\n",
    "V2"
   ]
  },
  {
   "cell_type": "markdown",
   "id": "6f21b951-24cb-48ec-8fd2-62d4e81a917a",
   "metadata": {},
   "source": [
    "Tension 3"
   ]
  },
  {
   "cell_type": "markdown",
   "id": "2a83c0ad-d2bd-4755-9251-772060601359",
   "metadata": {},
   "source": [
    " Encuentra variable que debe ser $ V3 $\n",
    "$$ V_{3} = V_{pu_{3}} \\cdot Vb_{2} $$\n"
   ]
  },
  {
   "cell_type": "code",
   "execution_count": null,
   "id": "2749ffef-63d8-4451-89ca-34f595bcd4c5",
   "metadata": {},
   "outputs": [],
   "source": [
    "# Encuentra variable que debe ser V3\n",
    "V3 = Vpu3 * Vb2\n",
    "V3"
   ]
  },
  {
   "cell_type": "markdown",
   "id": "63e52f82-427a-4c6e-a804-803c2caeb8e5",
   "metadata": {},
   "source": [
    "Tension 4"
   ]
  },
  {
   "cell_type": "markdown",
   "id": "a8f3ea85-9739-4b0e-88ff-156d64b7c7ea",
   "metadata": {},
   "source": [
    " Encuentra variable que debe ser $ V4 $\n",
    "$$ V_{4} = V_{pu_{4}} \\cdot Vb_{3} $$\n"
   ]
  },
  {
   "cell_type": "code",
   "execution_count": null,
   "id": "56cf6c0c-0d6a-4189-a1be-21a052e835eb",
   "metadata": {},
   "outputs": [],
   "source": [
    "# Encuentra variable que debe ser V4\n",
    "V4 = Vpu4 * Vb3\n",
    "V4"
   ]
  },
  {
   "cell_type": "markdown",
   "id": "db46e62d-23ce-44c9-a3a2-9a86eb8db097",
   "metadata": {},
   "source": [
    "## Intensidad"
   ]
  },
  {
   "cell_type": "markdown",
   "id": "c79044d6-0e0a-4270-8fcc-8cab3af14e87",
   "metadata": {},
   "source": [
    "Intensidad 1"
   ]
  },
  {
   "cell_type": "markdown",
   "id": "bd098f8a-e758-4a8a-9cda-287f3afa63b3",
   "metadata": {},
   "source": [
    " Encuentra variable que debe ser $ I1 $\n",
    "$$ I_{1} = I_{pu_{tot}} \\cdot Ib_{1} $$\n"
   ]
  },
  {
   "cell_type": "code",
   "execution_count": null,
   "id": "8bc5afd8-07e2-46b5-9faa-d3c24c0aa037",
   "metadata": {},
   "outputs": [],
   "source": [
    "# Encuentra variable que debe ser I1\n",
    "I1 = Iputot * Ib1\n",
    "I1"
   ]
  },
  {
   "cell_type": "markdown",
   "id": "b7719fec-4340-4f54-9480-b03ab3cfe260",
   "metadata": {},
   "source": [
    "Intensidad 2"
   ]
  },
  {
   "cell_type": "markdown",
   "id": "3321cf84-64b7-4a6e-acab-c7eae01e405e",
   "metadata": {},
   "source": [
    " Encuentra variable que debe ser $ I2 $\n",
    "$$ I_{2} = I_{pu_{tot}} \\cdot Ib_{2} $$\n"
   ]
  },
  {
   "cell_type": "code",
   "execution_count": null,
   "id": "6ba15f59-4f5d-4802-ba16-cf445332d121",
   "metadata": {},
   "outputs": [],
   "source": [
    "# Encuentra variable que debe ser I2\n",
    "I2 = Iputot * Ib2\n",
    "I2"
   ]
  },
  {
   "cell_type": "markdown",
   "id": "f1fa7f5a-ae96-4eda-ae94-afcc4d81be84",
   "metadata": {},
   "source": [
    "Intensidad 3"
   ]
  },
  {
   "cell_type": "markdown",
   "id": "8f8d8023-868e-451d-98f9-33e45bfc1c48",
   "metadata": {},
   "source": [
    " Encuentra variable que debe ser $ I3 $\n",
    "$$ I_{3} = I_{pu_{tot}} \\cdot Ib_{3} $$\n"
   ]
  },
  {
   "cell_type": "code",
   "execution_count": null,
   "id": "62cc39f0-6311-4749-9904-e8283173b356",
   "metadata": {},
   "outputs": [],
   "source": [
    "# Encuentra variable que debe ser I3\n",
    "I3 = Iputot * Ib3\n",
    "I3"
   ]
  }
 ],
 "metadata": {
  "kernelspec": {
   "display_name": "Python 3 (ipykernel)",
   "language": "python",
   "name": "python3"
  },
  "language_info": {
   "codemirror_mode": {
    "name": "ipython",
    "version": 3
   },
   "file_extension": ".py",
   "mimetype": "text/x-python",
   "name": "python",
   "nbconvert_exporter": "python",
   "pygments_lexer": "ipython3",
   "version": "3.12.4"
  }
 },
 "nbformat": 4,
 "nbformat_minor": 5
}
