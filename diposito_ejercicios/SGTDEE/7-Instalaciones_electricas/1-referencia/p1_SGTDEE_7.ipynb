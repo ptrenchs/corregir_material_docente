{
 "cells": [
  {
   "cell_type": "code",
   "execution_count": 117,
   "id": "969efad0-f339-4dd4-aa6e-9349b4409139",
   "metadata": {},
   "outputs": [],
   "source": [
    "import numpy as np\n",
    "import pandas as pd"
   ]
  },
  {
   "cell_type": "code",
   "execution_count": 127,
   "id": "d65f3460-2ca7-44f6-b0ea-978c942f2c3e",
   "metadata": {},
   "outputs": [],
   "source": [
    "def encontrar_valor_tabla_1(columna_1,columna_2,dato):\n",
    "    col = [i for i in df.columns]\n",
    "    datos = [[j for j in i] for i in df.values]\n",
    "    for i in range(len(datos)):\n",
    "        for j in range(len(datos[i])):\n",
    "            try:\n",
    "                datos[i][j] = float(datos[i][j])\n",
    "            except:\n",
    "                pass\n",
    "    index_col = [[i for i in range(len(col)) if ind_col in col[i]][0]for ind_col in [columna_1,columna_2]]\n",
    "    return [i[index_col[0]] for i in datos if i[index_col[0]] >= dato][0]\n",
    "    \n",
    "def encontrar_valor_tabla_2(columna_1,columna_2,dato):\n",
    "    col = [i for i in df.columns]\n",
    "    datos = [[j for j in i] for i in df.values]\n",
    "    for i in range(len(datos)):\n",
    "        for j in range(len(datos[i])):\n",
    "            try:\n",
    "                datos[i][j] = float(datos[i][j])\n",
    "            except:\n",
    "                pass\n",
    "    index_col = [[i for i in range(len(col)) if ind_col in col[i]][0]for ind_col in [columna_1,columna_2]]\n",
    "    return [i[index_col[1]] for i in datos if i[index_col[0]] >= dato][0]"
   ]
  },
  {
   "cell_type": "markdown",
   "id": "b401e6bd-afa5-4c03-9472-4a091594a5f5",
   "metadata": {},
   "source": [
    "un edificio de habitajes dispone de una centralizacion de comptadores a la planta baja con las caracteristicas siguientes:\n",
    "\n",
    "- Potencia en la centralizacion de los contadores: 30 kW\n",
    "- Voltaje de suministro: 400 V\n",
    "- Longitud de la linea general de alimentacion: 15 m\n",
    "- Conductores de cobre (conductividad: 44 m/Ω mm2)\n",
    "- Factor de potencia: 0,90 (i)\n",
    "- Conductores RZ1-K instalados en un tubo encastado a la paret de obra\n",
    "\n",
    "Calculen la minima seccion normalizada de la linea general de alimentacion."
   ]
  },
  {
   "cell_type": "code",
   "execution_count": 86,
   "id": "9ca5547c-e943-4d64-b8dc-caec5fdeda9b",
   "metadata": {},
   "outputs": [],
   "source": [
    "# Datos\n",
    "# Potencia en la centralizacion de los contadores en W:\n",
    "P = 30 * 10 ** 3\n",
    "# Voltaje de suministro en V\n",
    "V = 400\n",
    "# Longitud de la linea general de alimentacion en m\n",
    "Long = 15\n",
    "# Conductores de cobre en m/(Ω/mm^2)\n",
    "con_cu = 44\n",
    "# Factor de potencia inductivo en por unidad\n",
    "fdp = 0.9\n",
    "# Caida de tension en %\n",
    "delta_v = 0.5"
   ]
  },
  {
   "cell_type": "markdown",
   "id": "08610ef5-4709-4494-8ae6-e659a499af10",
   "metadata": {},
   "source": [
    "Càlculo de la mínima sección (en $mm^2$) aplicando el criterio de la maxima caida de voltage\n",
    "admisible:"
   ]
  },
  {
   "cell_type": "code",
   "execution_count": 89,
   "id": "0c7f451c-fd43-41f8-9e71-095f12344153",
   "metadata": {},
   "outputs": [
    {
     "data": {
      "text/plain": [
       "12.784090909090908"
      ]
     },
     "execution_count": 89,
     "metadata": {},
     "output_type": "execute_result"
    }
   ],
   "source": [
    "A_delta_V = Long * P / (con_cu * delta_v * V ** 2) * 100\n",
    "A_delta_V"
   ]
  },
  {
   "cell_type": "code",
   "execution_count": 91,
   "id": "5948fd3a-332c-4b07-9c76-4432596eb0d9",
   "metadata": {},
   "outputs": [
    {
     "data": {
      "text/html": [
       "<div>\n",
       "<style scoped>\n",
       "    .dataframe tbody tr th:only-of-type {\n",
       "        vertical-align: middle;\n",
       "    }\n",
       "\n",
       "    .dataframe tbody tr th {\n",
       "        vertical-align: top;\n",
       "    }\n",
       "\n",
       "    .dataframe thead th {\n",
       "        text-align: right;\n",
       "    }\n",
       "</style>\n",
       "<table border=\"1\" class=\"dataframe\">\n",
       "  <thead>\n",
       "    <tr style=\"text-align: right;\">\n",
       "      <th></th>\n",
       "      <th>Seccion nominal [mm^2]</th>\n",
       "      <th>Canal protectora (A)</th>\n",
       "      <th>Tubs soterrats (A)</th>\n",
       "    </tr>\n",
       "  </thead>\n",
       "  <tbody>\n",
       "    <tr>\n",
       "      <th>0</th>\n",
       "      <td>10</td>\n",
       "      <td>60</td>\n",
       "      <td>77</td>\n",
       "    </tr>\n",
       "    <tr>\n",
       "      <th>1</th>\n",
       "      <td>16</td>\n",
       "      <td>80</td>\n",
       "      <td>100</td>\n",
       "    </tr>\n",
       "    <tr>\n",
       "      <th>2</th>\n",
       "      <td>25</td>\n",
       "      <td>106</td>\n",
       "      <td>128</td>\n",
       "    </tr>\n",
       "    <tr>\n",
       "      <th>3</th>\n",
       "      <td>35</td>\n",
       "      <td>131</td>\n",
       "      <td>152</td>\n",
       "    </tr>\n",
       "    <tr>\n",
       "      <th>4</th>\n",
       "      <td>50</td>\n",
       "      <td>159</td>\n",
       "      <td>184</td>\n",
       "    </tr>\n",
       "    <tr>\n",
       "      <th>5</th>\n",
       "      <td>70</td>\n",
       "      <td>202</td>\n",
       "      <td>224</td>\n",
       "    </tr>\n",
       "    <tr>\n",
       "      <th>6</th>\n",
       "      <td>95</td>\n",
       "      <td>245</td>\n",
       "      <td>268</td>\n",
       "    </tr>\n",
       "    <tr>\n",
       "      <th>7</th>\n",
       "      <td>120</td>\n",
       "      <td>284</td>\n",
       "      <td>304</td>\n",
       "    </tr>\n",
       "    <tr>\n",
       "      <th>8</th>\n",
       "      <td>150</td>\n",
       "      <td>338</td>\n",
       "      <td>240</td>\n",
       "    </tr>\n",
       "    <tr>\n",
       "      <th>9</th>\n",
       "      <td>158</td>\n",
       "      <td>386</td>\n",
       "      <td>385</td>\n",
       "    </tr>\n",
       "    <tr>\n",
       "      <th>10</th>\n",
       "      <td>240</td>\n",
       "      <td>455</td>\n",
       "      <td>440</td>\n",
       "    </tr>\n",
       "  </tbody>\n",
       "</table>\n",
       "</div>"
      ],
      "text/plain": [
       "    Seccion nominal [mm^2]  Canal protectora (A)  Tubs soterrats (A)\n",
       "0                       10                    60                  77\n",
       "1                       16                    80                 100\n",
       "2                       25                   106                 128\n",
       "3                       35                   131                 152\n",
       "4                       50                   159                 184\n",
       "5                       70                   202                 224\n",
       "6                       95                   245                 268\n",
       "7                      120                   284                 304\n",
       "8                      150                   338                 240\n",
       "9                      158                   386                 385\n",
       "10                     240                   455                 440"
      ]
     },
     "execution_count": 91,
     "metadata": {},
     "output_type": "execute_result"
    }
   ],
   "source": [
    "df = pd.read_excel('https://raw.githubusercontent.com/ptrenchs/Material_docente_clase/main/SGTDEE/7-Instalaciones_electricas/1-referencia/tablas/RZ1-K_linea_genera_de_alimentacion.xlsx')\n",
    "df"
   ]
  },
  {
   "cell_type": "markdown",
   "id": "25ccf1f8-8b43-448c-8d2a-a09aa6549b5b",
   "metadata": {},
   "source": [
    "La seccion minima normalizada adoptada aplicando el criterio maximo de caida de tension admisible es:"
   ]
  },
  {
   "cell_type": "code",
   "execution_count": 129,
   "id": "1c9dfaa5-1e7a-45ef-b459-46c92dcdf7d5",
   "metadata": {},
   "outputs": [
    {
     "data": {
      "text/plain": [
       "16.0"
      ]
     },
     "execution_count": 129,
     "metadata": {},
     "output_type": "execute_result"
    }
   ],
   "source": [
    "Area_criterio = encontrar_valor_tabla_1('Seccion nominal','Canal protectora',A_delta_V)\n",
    "Area_criterio"
   ]
  },
  {
   "cell_type": "markdown",
   "id": "4465c91f-d1fa-4b79-9428-37b4024a529f",
   "metadata": {},
   "source": [
    "A continuación, se avalua el criterio de la intensidad maxima admisible. Por un conductor con una sección nominal de 16 $mm^2$, el corrente maxim admisible és:"
   ]
  },
  {
   "cell_type": "code",
   "execution_count": 133,
   "id": "b459a004-4ba8-4243-8cb1-6f4708a5cc65",
   "metadata": {},
   "outputs": [
    {
     "data": {
      "text/plain": [
       "80.0"
      ]
     },
     "execution_count": 133,
     "metadata": {},
     "output_type": "execute_result"
    }
   ],
   "source": [
    "I_criterio = encontrar_valor_tabla_2('Seccion nominal','Canal protectora',A_delta_V)\n",
    "I_criterio"
   ]
  },
  {
   "cell_type": "markdown",
   "id": "d9fb0ae4-b176-4db5-9695-f11927ffddac",
   "metadata": {},
   "source": [
    "Corriente por la linea general de alimentacion"
   ]
  },
  {
   "cell_type": "code",
   "execution_count": 140,
   "id": "7405aac3-a218-4efa-984d-199308e6c1c3",
   "metadata": {},
   "outputs": [
    {
     "data": {
      "text/plain": [
       "48.112522432468815"
      ]
     },
     "execution_count": 140,
     "metadata": {},
     "output_type": "execute_result"
    }
   ],
   "source": [
    "I_gneral = P / (np.sqrt(3) * V *fdp)\n",
    "I_gneral"
   ]
  },
  {
   "cell_type": "markdown",
   "id": "3adb2de5-b366-4a53-8adf-b2669d7244a3",
   "metadata": {},
   "source": [
    "como corriente que circula por la linea general de alimentacion es inferior a la correinte maximo admisible, la seccion minima normalizada del conductor de la linea general de alimentacion es:"
   ]
  },
  {
   "cell_type": "code",
   "execution_count": 146,
   "id": "182f286a-4602-4cb8-9f64-4a7f1770b391",
   "metadata": {},
   "outputs": [
    {
     "data": {
      "text/plain": [
       "16.0"
      ]
     },
     "execution_count": 146,
     "metadata": {},
     "output_type": "execute_result"
    }
   ],
   "source": [
    "Area_criterio"
   ]
  }
 ],
 "metadata": {
  "kernelspec": {
   "display_name": "Python 3 (ipykernel)",
   "language": "python",
   "name": "python3"
  },
  "language_info": {
   "codemirror_mode": {
    "name": "ipython",
    "version": 3
   },
   "file_extension": ".py",
   "mimetype": "text/x-python",
   "name": "python",
   "nbconvert_exporter": "python",
   "pygments_lexer": "ipython3",
   "version": "3.12.4"
  }
 },
 "nbformat": 4,
 "nbformat_minor": 5
}
